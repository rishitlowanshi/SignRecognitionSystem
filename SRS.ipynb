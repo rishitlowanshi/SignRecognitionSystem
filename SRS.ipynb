{
  "metadata": {
    "language_info": {
      "codemirror_mode": {
        "name": "python",
        "version": 3
      },
      "file_extension": ".py",
      "mimetype": "text/x-python",
      "name": "python",
      "nbconvert_exporter": "python",
      "pygments_lexer": "ipython3",
      "version": "3.8"
    },
    "kernelspec": {
      "name": "python",
      "display_name": "Pyolite",
      "language": "python"
    }
  },
  "nbformat_minor": 4,
  "nbformat": 4,
  "cells": [
    {
      "cell_type": "code",
      "source": "!pip install tensorflow==2.4.1 tensorflow-gpu==2.4.1 opencv-python mediapipe sklearn matplotlib",
      "metadata": {},
      "execution_count": null,
      "outputs": []
    },
    {
      "cell_type": "code",
      "source": "import cv2\nimport numpy as np\nimport os\nfrom matplotlib import pyplot as plt\nimport time\nimport mediapipe as mp",
      "metadata": {},
      "execution_count": null,
      "outputs": []
    },
    {
      "cell_type": "code",
      "source": "mp_holistic = mp.solutions.holistic # Holistic model\nmp_drawing = mp.solutions.drawing_utils # Drawing utilities",
      "metadata": {},
      "execution_count": null,
      "outputs": []
    },
    {
      "cell_type": "code",
      "source": "def mediapipe_detection(image, model):\n    image = cv2.cvtColor(image, cv2.COLOR_BGR2RGB) # COLOR CONVERSION BGR 2 RGB\n    image.flags.writeable = False                  # Image is no longer writeable\n    results = model.process(image)                 # Make prediction\n    image.flags.writeable = True                   # Image is now writeable \n    image = cv2.cvtColor(image, cv2.COLOR_RGB2BGR) # COLOR COVERSION RGB 2 BGR\n    return image, results",
      "metadata": {},
      "execution_count": null,
      "outputs": []
    },
    {
      "cell_type": "code",
      "source": "def draw_landmarks(image, results):\n    mp_drawing.draw_landmarks(image, results.face_landmarks, mp_holistic.FACE_CONNECTIONS) # Draw face connections\n    mp_drawing.draw_landmarks(image, results.pose_landmarks, mp_holistic.POSE_CONNECTIONS) # Draw pose connections\n    mp_drawing.draw_landmarks(image, results.left_hand_landmarks, mp_holistic.HAND_CONNECTIONS) # Draw left hand connections\n    mp_drawing.draw_landmarks(image, results.right_hand_landmarks, mp_holistic.HAND_CONNECTIONS) # Draw right hand connections",
      "metadata": {},
      "execution_count": null,
      "outputs": []
    },
    {
      "cell_type": "code",
      "source": "def draw_styled_landmarks(image, results):\n    # Draw face connections\n    mp_drawing.draw_landmarks(image, results.face_landmarks, mp_holistic.FACE_CONNECTIONS, \n                             mp_drawing.DrawingSpec(color=(80,110,10), thickness=1, circle_radius=1), \n                             mp_drawing.DrawingSpec(color=(80,256,121), thickness=1, circle_radius=1)\n                             ) \n    # Draw pose connections\n    mp_drawing.draw_landmarks(image, results.pose_landmarks, mp_holistic.POSE_CONNECTIONS,\n                             mp_drawing.DrawingSpec(color=(80,22,10), thickness=2, circle_radius=4), \n                             mp_drawing.DrawingSpec(color=(80,44,121), thickness=2, circle_radius=2)\n                             ) \n    # Draw left hand connections\n    mp_drawing.draw_landmarks(image, results.left_hand_landmarks, mp_holistic.HAND_CONNECTIONS, \n                             mp_drawing.DrawingSpec(color=(121,22,76), thickness=2, circle_radius=4), \n                             mp_drawing.DrawingSpec(color=(121,44,250), thickness=2, circle_radius=2)\n                             ) \n    # Draw right hand connections  \n    mp_drawing.draw_landmarks(image, results.right_hand_landmarks, mp_holistic.HAND_CONNECTIONS, \n                             mp_drawing.DrawingSpec(color=(245,117,66), thickness=2, circle_radius=4), \n                             mp_drawing.DrawingSpec(color=(245,66,230), thickness=2, circle_radius=2)\n                             ) ",
      "metadata": {},
      "execution_count": null,
      "outputs": []
    },
    {
      "cell_type": "code",
      "source": "cap = cv2.VideoCapture(0)\n# Set mediapipe model \nwith mp_holistic.Holistic(min_detection_confidence=0.5, min_tracking_confidence=0.5) as holistic:\n    while cap.isOpened():\n\n        # Read feed\n        ret, frame = cap.read()\n\n        # Make detections\n        image, results = mediapipe_detection(frame, holistic)\n        print(results)\n        \n        # Draw landmarks\n        draw_styled_landmarks(image, results)\n\n        # Show to screen\n        cv2.imshow('OpenCV Feed', image)\n\n        # Break gracefully\n        if cv2.waitKey(10) & 0xFF == ord('q'):\n            break\n    cap.release()\n    cv2.destroyAllWindows()",
      "metadata": {},
      "execution_count": null,
      "outputs": []
    },
    {
      "cell_type": "code",
      "source": "draw_landmarks(frame, results)",
      "metadata": {},
      "execution_count": null,
      "outputs": []
    },
    {
      "cell_type": "code",
      "source": "plt.imshow(cv2.cvtColor(frame, cv2.COLOR_BGR2RGB))",
      "metadata": {},
      "execution_count": null,
      "outputs": []
    },
    {
      "cell_type": "code",
      "source": "len(results.left_hand_landmarks.landmark)",
      "metadata": {},
      "execution_count": null,
      "outputs": []
    },
    {
      "cell_type": "code",
      "source": "pose = []\nfor res in results.pose_landmarks.landmark:\n    test = np.array([res.x, res.y, res.z, res.visibility])\n    pose.append(test)",
      "metadata": {},
      "execution_count": null,
      "outputs": []
    },
    {
      "cell_type": "code",
      "source": "pose = np.array([[res.x, res.y, res.z, res.visibility] for res in results.pose_landmarks.landmark]).flatten() if results.pose_landmarks else np.zeros(132)\nface = np.array([[res.x, res.y, res.z] for res in results.face_landmarks.landmark]).flatten() if results.face_landmarks else np.zeros(1404)\nlh = np.array([[res.x, res.y, res.z] for res in results.left_hand_landmarks.landmark]).flatten() if results.left_hand_landmarks else np.zeros(21*3)\nrh = np.array([[res.x, res.y, res.z] for res in results.right_hand_landmarks.landmark]).flatten() if results.right_hand_landmarks else np.zeros(21*3)",
      "metadata": {},
      "execution_count": null,
      "outputs": []
    },
    {
      "cell_type": "code",
      "source": "face = np.array([[res.x, res.y, res.z] for res in results.face_landmarks.landmark]).flatten() \n    if results.face_landmarks \n    else np.zeros(1404)",
      "metadata": {},
      "execution_count": null,
      "outputs": []
    },
    {
      "cell_type": "code",
      "source": "array([0., 0., 0., 0., 0., 0., 0., 0., 0., 0., 0., 0., 0., 0., 0., 0., 0.,\n       0., 0., 0., 0., 0., 0., 0., 0., 0., 0., 0., 0., 0., 0., 0., 0., 0.,\n       0., 0., 0., 0., 0., 0., 0., 0., 0., 0., 0., 0., 0., 0., 0., 0., 0.,\n       0., 0., 0., 0., 0., 0., 0., 0., 0., 0., 0., 0.])",
      "metadata": {},
      "execution_count": null,
      "outputs": []
    },
    {
      "cell_type": "code",
      "source": "def extract_keypoints(results):\n    pose = np.array([[res.x, res.y, res.z, res.visibility] for res in results.pose_landmarks.landmark]).flatten() if results.pose_landmarks else np.zeros(33*4)\n    face = np.array([[res.x, res.y, res.z] for res in results.face_landmarks.landmark]).flatten() if results.face_landmarks else np.zeros(468*3)\n    lh = np.array([[res.x, res.y, res.z] for res in results.left_hand_landmarks.landmark]).flatten() if results.left_hand_landmarks else np.zeros(21*3)\n    rh = np.array([[res.x, res.y, res.z] for res in results.right_hand_landmarks.landmark]).flatten() if results.right_hand_landmarks else np.zeros(21*3)\n    return np.concatenate([pose, face, lh, rh])",
      "metadata": {},
      "execution_count": null,
      "outputs": []
    },
    {
      "cell_type": "code",
      "source": "result_test = extract_keypoints(results)",
      "metadata": {},
      "execution_count": null,
      "outputs": []
    },
    {
      "cell_type": "code",
      "source": "result_test",
      "metadata": {},
      "execution_count": null,
      "outputs": []
    },
    {
      "cell_type": "code",
      "source": "array([ 0.3835876 ,  0.47759178, -0.77978629, ...,  0.        ,\n        0.        ,  0.        ])",
      "metadata": {},
      "execution_count": null,
      "outputs": []
    },
    {
      "cell_type": "code",
      "source": "np.save('0', result_test)",
      "metadata": {},
      "execution_count": null,
      "outputs": []
    },
    {
      "cell_type": "code",
      "source": "np.load('0.npy')",
      "metadata": {},
      "execution_count": null,
      "outputs": []
    },
    {
      "cell_type": "code",
      "source": "array([ 0.3835876 ,  0.47759178, -0.77978629, ...,  0.        ,\n        0.        ,  0.        ])",
      "metadata": {},
      "execution_count": null,
      "outputs": []
    },
    {
      "cell_type": "code",
      "source": "# Path for exported data, numpy arrays\nDATA_PATH = os.path.join('MP_Data') \n\n# Actions that we try to detect\nactions = np.array(['hello', 'thanks', 'iloveyou'])\n\n# Thirty videos worth of data\nno_sequences = 30\n\n# Videos are going to be 30 frames in length\nsequence_length = 30\n\n# Folder start\nstart_folder = 30",
      "metadata": {},
      "execution_count": null,
      "outputs": []
    },
    {
      "cell_type": "code",
      "source": "for action in actions: \n    dirmax = np.max(np.array(os.listdir(os.path.join(DATA_PATH, action))).astype(int))\n    for sequence in range(1,no_sequences+1):\n        try: \n            os.makedirs(os.path.join(DATA_PATH, action, str(dirmax+sequence)))\n        except:\n            pass",
      "metadata": {},
      "execution_count": null,
      "outputs": []
    },
    {
      "cell_type": "code",
      "source": "cap = cv2.VideoCapture(0)\n# Set mediapipe model \nwith mp_holistic.Holistic(min_detection_confidence=0.5, min_tracking_confidence=0.5) as holistic:\n    \n    # NEW LOOP\n    # Loop through actions\n    for action in actions:\n        # Loop through sequences aka videos\n        for sequence in range(start_folder, start_folder+no_sequences):\n            # Loop through video length aka sequence length\n            for frame_num in range(sequence_length):\n\n                # Read feed\n                ret, frame = cap.read()\n\n                # Make detections\n                image, results = mediapipe_detection(frame, holistic)\n\n                # Draw landmarks\n                draw_styled_landmarks(image, results)\n                \n                # NEW Apply wait logic\n                if frame_num == 0: \n                    cv2.putText(image, 'STARTING COLLECTION', (120,200), \n                               cv2.FONT_HERSHEY_SIMPLEX, 1, (0,255, 0), 4, cv2.LINE_AA)\n                    cv2.putText(image, 'Collecting frames for {} Video Number {}'.format(action, sequence), (15,12), \n                               cv2.FONT_HERSHEY_SIMPLEX, 0.5, (0, 0, 255), 1, cv2.LINE_AA)\n                    # Show to screen\n                    cv2.imshow('OpenCV Feed', image)\n                    cv2.waitKey(500)\n                else: \n                    cv2.putText(image, 'Collecting frames for {} Video Number {}'.format(action, sequence), (15,12), \n                               cv2.FONT_HERSHEY_SIMPLEX, 0.5, (0, 0, 255), 1, cv2.LINE_AA)\n                    # Show to screen\n                    cv2.imshow('OpenCV Feed', image)\n                \n                # NEW Export keypoints\n                keypoints = extract_keypoints(results)\n                npy_path = os.path.join(DATA_PATH, action, str(sequence), str(frame_num))\n                np.save(npy_path, keypoints)\n\n                # Break gracefully\n                if cv2.waitKey(10) & 0xFF == ord('q'):\n                    break\n                    \n    cap.release()\n    cv2.destroyAllWindows()",
      "metadata": {},
      "execution_count": null,
      "outputs": []
    },
    {
      "cell_type": "code",
      "source": "cap.release()\ncv2.destroyAllWindows()",
      "metadata": {},
      "execution_count": null,
      "outputs": []
    },
    {
      "cell_type": "code",
      "source": "from sklearn.model_selection import train_test_split\nfrom tensorflow.keras.utils import to_categorical",
      "metadata": {},
      "execution_count": null,
      "outputs": []
    },
    {
      "cell_type": "code",
      "source": "label_map = {label:num for num, label in enumerate(actions)}",
      "metadata": {},
      "execution_count": null,
      "outputs": []
    },
    {
      "cell_type": "code",
      "source": "label_map",
      "metadata": {},
      "execution_count": null,
      "outputs": []
    },
    {
      "cell_type": "code",
      "source": "sequences, labels = [], []\nfor action in actions:\n    for sequence in np.array(os.listdir(os.path.join(DATA_PATH, action))).astype(int):\n        window = []\n        for frame_num in range(sequence_length):\n            res = np.load(os.path.join(DATA_PATH, action, str(sequence), \"{}.npy\".format(frame_num)))\n            window.append(res)\n        sequences.append(window)\n        labels.append(label_map[action])",
      "metadata": {},
      "execution_count": null,
      "outputs": []
    },
    {
      "cell_type": "code",
      "source": "np.array(sequences).shape",
      "metadata": {},
      "execution_count": null,
      "outputs": []
    },
    {
      "cell_type": "code",
      "source": "np.array(labels).shape",
      "metadata": {},
      "execution_count": null,
      "outputs": []
    },
    {
      "cell_type": "code",
      "source": "X = np.array(sequences)",
      "metadata": {},
      "execution_count": null,
      "outputs": []
    },
    {
      "cell_type": "code",
      "source": "X.shape",
      "metadata": {},
      "execution_count": null,
      "outputs": []
    },
    {
      "cell_type": "code",
      "source": "y = to_categorical(labels).astype(int)",
      "metadata": {},
      "execution_count": null,
      "outputs": []
    },
    {
      "cell_type": "code",
      "source": "X_train, X_test, y_train, y_test = train_test_split(X, y, test_size=0.05)",
      "metadata": {},
      "execution_count": null,
      "outputs": []
    },
    {
      "cell_type": "code",
      "source": "y_test.shape",
      "metadata": {},
      "execution_count": null,
      "outputs": []
    },
    {
      "cell_type": "code",
      "source": "from tensorflow.keras.models import Sequential\nfrom tensorflow.keras.layers import LSTM, Dense\nfrom tensorflow.keras.callbacks import TensorBoard",
      "metadata": {},
      "execution_count": null,
      "outputs": []
    },
    {
      "cell_type": "code",
      "source": "log_dir = os.path.join('Logs')\ntb_callback = TensorBoard(log_dir=log_dir)",
      "metadata": {},
      "execution_count": null,
      "outputs": []
    },
    {
      "cell_type": "code",
      "source": "model = Sequential()\nmodel.add(LSTM(64, return_sequences=True, activation='relu', input_shape=(30,1662)))\nmodel.add(LSTM(128, return_sequences=True, activation='relu'))\nmodel.add(LSTM(64, return_sequences=False, activation='relu'))\nmodel.add(Dense(64, activation='relu'))\nmodel.add(Dense(32, activation='relu'))\nmodel.add(Dense(actions.shape[0], activation='softmax'))",
      "metadata": {},
      "execution_count": null,
      "outputs": []
    },
    {
      "cell_type": "code",
      "source": "model.compile(optimizer='Adam', loss='categorical_crossentropy', metrics=['categorical_accuracy'])",
      "metadata": {},
      "execution_count": null,
      "outputs": []
    },
    {
      "cell_type": "code",
      "source": "model.fit(X_train, y_train, epochs=2000, callbacks=[tb_callback])",
      "metadata": {},
      "execution_count": null,
      "outputs": []
    },
    {
      "cell_type": "code",
      "source": "model.summary()",
      "metadata": {},
      "execution_count": null,
      "outputs": []
    },
    {
      "cell_type": "code",
      "source": "res = model.predict(X_test)",
      "metadata": {},
      "execution_count": null,
      "outputs": []
    },
    {
      "cell_type": "code",
      "source": "actions[np.argmax(res[4])]",
      "metadata": {},
      "execution_count": null,
      "outputs": []
    },
    {
      "cell_type": "code",
      "source": "actions[np.argmax(y_test[4])]",
      "metadata": {},
      "execution_count": null,
      "outputs": []
    },
    {
      "cell_type": "code",
      "source": "model.save('action.h5')",
      "metadata": {},
      "execution_count": null,
      "outputs": []
    },
    {
      "cell_type": "code",
      "source": "del model",
      "metadata": {},
      "execution_count": null,
      "outputs": []
    },
    {
      "cell_type": "code",
      "source": "model.load_weights('action.h5')",
      "metadata": {},
      "execution_count": null,
      "outputs": []
    },
    {
      "cell_type": "code",
      "source": "from sklearn.metrics import multilabel_confusion_matrix, accuracy_score",
      "metadata": {},
      "execution_count": null,
      "outputs": []
    },
    {
      "cell_type": "code",
      "source": "yhat = model.predict(X_test)",
      "metadata": {},
      "execution_count": null,
      "outputs": []
    },
    {
      "cell_type": "code",
      "source": "ytrue = np.argmax(y_test, axis=1).tolist()\nyhat = np.argmax(yhat, axis=1).tolist()",
      "metadata": {},
      "execution_count": null,
      "outputs": []
    },
    {
      "cell_type": "code",
      "source": "multilabel_confusion_matrix(ytrue, yhat)",
      "metadata": {},
      "execution_count": null,
      "outputs": []
    },
    {
      "cell_type": "code",
      "source": "accuracy_score(ytrue, yhat)",
      "metadata": {},
      "execution_count": null,
      "outputs": []
    },
    {
      "cell_type": "code",
      "source": "from scipy import stats",
      "metadata": {},
      "execution_count": null,
      "outputs": []
    },
    {
      "cell_type": "code",
      "source": "colors = [(245,117,16), (117,245,16), (16,117,245)]\ndef prob_viz(res, actions, input_frame, colors):\n    output_frame = input_frame.copy()\n    for num, prob in enumerate(res):\n        cv2.rectangle(output_frame, (0,60+num*40), (int(prob*100), 90+num*40), colors[num], -1)\n        cv2.putText(output_frame, actions[num], (0, 85+num*40), cv2.FONT_HERSHEY_SIMPLEX, 1, (255,255,255), 2, cv2.LINE_AA)\n        \n    return output_frame",
      "metadata": {},
      "execution_count": null,
      "outputs": []
    },
    {
      "cell_type": "code",
      "source": "plt.figure(figsize=(18,18))\nplt.imshow(prob_viz(res, actions, image, colors))",
      "metadata": {},
      "execution_count": null,
      "outputs": []
    },
    {
      "cell_type": "code",
      "source": "# 1. New detection variables\nsequence = []\nsentence = []\npredictions = []\nthreshold = 0.5\n\ncap = cv2.VideoCapture(0)\n# Set mediapipe model \nwith mp_holistic.Holistic(min_detection_confidence=0.5, min_tracking_confidence=0.5) as holistic:\n    while cap.isOpened():\n\n        # Read feed\n        ret, frame = cap.read()\n\n        # Make detections\n        image, results = mediapipe_detection(frame, holistic)\n        print(results)\n        \n        # Draw landmarks\n        draw_styled_landmarks(image, results)\n        \n        # 2. Prediction logic\n        keypoints = extract_keypoints(results)\n        sequence.append(keypoints)\n        sequence = sequence[-30:]\n        \n        if len(sequence) == 30:\n            res = model.predict(np.expand_dims(sequence, axis=0))[0]\n            print(actions[np.argmax(res)])\n            predictions.append(np.argmax(res))\n            \n            \n        #3. Viz logic\n            if np.unique(predictions[-10:])[0]==np.argmax(res): \n                if res[np.argmax(res)] > threshold: \n                    \n                    if len(sentence) > 0: \n                        if actions[np.argmax(res)] != sentence[-1]:\n                            sentence.append(actions[np.argmax(res)])\n                    else:\n                        sentence.append(actions[np.argmax(res)])\n\n            if len(sentence) > 5: \n                sentence = sentence[-5:]\n\n            # Viz probabilities\n            image = prob_viz(res, actions, image, colors)\n            \n        cv2.rectangle(image, (0,0), (640, 40), (245, 117, 16), -1)\n        cv2.putText(image, ' '.join(sentence), (3,30), \n                       cv2.FONT_HERSHEY_SIMPLEX, 1, (255, 255, 255), 2, cv2.LINE_AA)\n        \n        # Show to screen\n        cv2.imshow('OpenCV Feed', image)\n\n        # Break gracefully\n        if cv2.waitKey(10) & 0xFF == ord('q'):\n            break\n    cap.release()\n    cv2.destroyAllWindows()",
      "metadata": {},
      "execution_count": null,
      "outputs": []
    }
  ]
}